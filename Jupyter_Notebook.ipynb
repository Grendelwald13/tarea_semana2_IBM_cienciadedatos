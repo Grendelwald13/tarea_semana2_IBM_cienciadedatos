{
 "cells": [
  {
   "cell_type": "markdown",
   "metadata": {},
   "source": [
    "<center>\n",
    "    <img src=\"https://cf-courses-data.s3.us.cloud-object-storage.appdomain.cloud/IBMDeveloperSkillsNetwork-DS0105EN-SkillsNetwork/labs/Module2/images/SN_web_lightmode.png\" width=\"300\" alt=\"cognitiveclass.ai logo\">\n",
    "</center>\n"
   ]
  },
  {
   "cell_type": "markdown",
   "metadata": {},
   "source": [
    "#ejercicio 2\n",
    "\n",
    "Data Science Tools and Ecosystem"
   ]
  },
  {
   "cell_type": "markdown",
   "metadata": {},
   "source": [
    "#ejercicio 3\n",
    "\n",
    "\n",
    "En este cuaderno, se resumen las herramientas y ecosistemas de ciencia de datos."
   ]
  },
  {
   "cell_type": "markdown",
   "metadata": {},
   "source": [
    "#ejercicio 4\n",
    "\n",
    "Algunos de los lenguajes populares que utilizan los científicos de datos son:\n",
    "\n",
    "-Python\n",
    "\n",
    "-R\n",
    "\n",
    "-Java\n",
    "\n",
    "-Julia\n",
    "\n",
    "-Visual Basic"
   ]
  },
  {
   "cell_type": "markdown",
   "metadata": {},
   "source": [
    "#ejercicio 5\n",
    "\n",
    "Algunas de las bibliotecas comúnmente utilizadas por los científicos de datos incluyen:\n",
    "\n",
    "Pandas\n",
    "\n",
    "Numpy\n",
    "\n",
    "Matplotlib\n",
    "\n",
    "Seaborn\n",
    "\n",
    "Scikit-learn\n",
    "\n",
    "TensorFlow\n",
    "\n",
    "Pytorch\n",
    "\n",
    "Keras"
   ]
  },
  {
   "cell_type": "markdown",
   "metadata": {},
   "source": [
    "#ejercicio 6\n",
    "\n",
    "Algunas de las herramientas  comúnmente utilizadas por los científicos de datos incluyen:\n",
    "\n",
    "SQL\n",
    "\n",
    "NoSQL\n",
    "\n",
    "APIS\n",
    "\n",
    "JUPYTER NOTEBOOKS\n",
    "\n",
    "GITHUB\n"
   ]
  },
  {
   "cell_type": "markdown",
   "metadata": {},
   "source": [
    "#ejercicio 7\n",
    "\n",
    "Los ejemplos de expresiones aritméticas son: suma, resta, multiplicación, división"
   ]
  },
  {
   "cell_type": "code",
   "execution_count": 4,
   "metadata": {},
   "outputs": [
    {
     "name": "stdin",
     "output_type": "stream",
     "text": [
      "Ingrese el primer numeros a multiplicar 2\n",
      "Ingrese el segundo numeros a multiplicar 8\n"
     ]
    },
    {
     "name": "stdout",
     "output_type": "stream",
     "text": [
      "el resultado de la multiplicacion es: 16\n"
     ]
    },
    {
     "name": "stdin",
     "output_type": "stream",
     "text": [
      "Ingrese el primer numeros a sumar 4\n",
      "Ingrese el segundo numeros a sumar 6\n"
     ]
    },
    {
     "name": "stdout",
     "output_type": "stream",
     "text": [
      "el resultado de la suma es: 10\n"
     ]
    }
   ],
   "source": [
    "#ejercicio 8\n",
    "def multiplicar(a,b):\n",
    "    return a*b\n",
    "\n",
    "def sumar_numeros(a,b):\n",
    "    return a+b\n",
    "\n",
    "a = int(input(\"Ingrese el primer numeros a multiplicar\"))\n",
    "b = int(input(\"Ingrese el segundo numeros a multiplicar\"))\n",
    "\n",
    "print(\"el resultado de la multiplicacion es:\" ,  multiplicar(a,b))\n",
    "\n",
    "c  = int(input(\"Ingrese el primer numeros a sumar\"))\n",
    "d  = int(input(\"Ingrese el segundo numeros a sumar\"))\n",
    "\n",
    "print(\"el resultado de la suma es:\" ,  sumar_numeros(c,d))"
   ]
  },
  {
   "cell_type": "code",
   "execution_count": 5,
   "metadata": {},
   "outputs": [
    {
     "name": "stdin",
     "output_type": "stream",
     "text": [
      "Ingrese el primer numeros a convertir 4.5\n"
     ]
    },
    {
     "name": "stdout",
     "output_type": "stream",
     "text": [
      "4:30:0\n"
     ]
    }
   ],
   "source": [
    "#ejercicio 9\n",
    "\n",
    "n = float(input(\"Ingrese el primer numeros a convertir\"))\n",
    "\n",
    "horas = int(n)\n",
    "minutos = int((n - horas)*60)\n",
    "segundos = int((((n - horas)*60) - minutos)*60)\n",
    "\n",
    "print(f\"{horas}:{minutos}:{segundos}\")"
   ]
  },
  {
   "cell_type": "code",
   "execution_count": null,
   "metadata": {},
   "outputs": [
    {
     "name": "stdin",
     "output_type": "stream",
     "text": [
      "ingrese objeto:  cama\n",
      "desea seguir? si/no:  si\n",
      "ingrese objeto:  silla\n",
      "desea seguir? si/no:  no\n"
     ]
    }
   ],
   "source": [
    "#ejercicio 10\n",
    "\n",
    "objetos = []\n",
    "seguir = True\n",
    "while seguir == True:\n",
    "    x = input(\"ingrese objeto: \")\n",
    "    a = input(\"desea seguir? si/no: \").strip().lower()\n",
    "    objetos.append(x)\n",
    "    if a == \"no\":\n",
    "        seguir == False\n",
    "\n",
    "print(objetos)"
   ]
  },
  {
   "cell_type": "markdown",
   "metadata": {},
   "source": [
    "#ejercicio 11\n",
    "\n",
    "Francisco del Canto"
   ]
  },
  {
   "cell_type": "code",
   "execution_count": null,
   "metadata": {},
   "outputs": [],
   "source": []
  },
  {
   "cell_type": "code",
   "execution_count": null,
   "metadata": {},
   "outputs": [],
   "source": []
  }
 ],
 "metadata": {
  "kernelspec": {
   "display_name": "Python 3 (ipykernel)",
   "language": "python",
   "name": "python3"
  },
  "language_info": {
   "codemirror_mode": {
    "name": "ipython",
    "version": 3
   },
   "file_extension": ".py",
   "mimetype": "text/x-python",
   "name": "python",
   "nbconvert_exporter": "python",
   "pygments_lexer": "ipython3",
   "version": "3.12.8"
  }
 },
 "nbformat": 4,
 "nbformat_minor": 4
}
